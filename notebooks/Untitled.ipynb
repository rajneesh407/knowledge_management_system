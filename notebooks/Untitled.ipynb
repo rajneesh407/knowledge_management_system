{
 "cells": [
  {
   "cell_type": "code",
   "execution_count": 2,
   "id": "4d7d4f1a",
   "metadata": {},
   "outputs": [],
   "source": [
    "import json\n",
    "import sqlite3\n",
    "from typing import Tuple, Iterator\n",
    "from typing import Sequence, List, Optional\n",
    "from langchain.schema import BaseStore\n",
    "from pypika import Query, Table, Field, Column\n",
    "\n",
    "\n",
    "class ChromaStore(BaseStore[str, bytes]):\n",
    "\n",
    "    def __init__(self, path, user_id):\n",
    "        self.path = path\n",
    "        self.table_name = \"docstore_{}\".format(user_id)\n",
    "        self.table = Table(self.table_name)\n",
    "        self.id_column = Field('id')\n",
    "        self.data_column = Field('data')\n",
    "        self._create_table()\n",
    "\n",
    "    def get_connection(self):\n",
    "        return sqlite3.connect('{path}/chroma.sqlite3'.format(path=self.path))\n",
    "\n",
    "    def _create_table(self):\n",
    "        id_column = Column('id', 'VARCHAR(50)', nullable=False)\n",
    "        data_column = Column('data', 'VARCHAR(2500)', nullable=False)\n",
    "        create_table_query = Query.create_table(self.table).columns(id_column, data_column).if_not_exists()\n",
    "        with self.get_connection() as connection:\n",
    "            cursor = connection.cursor()\n",
    "            cursor.execute(create_table_query.get_sql())\n",
    "            cursor.close()\n",
    "\n",
    "    def mget(self, keys: Sequence[str]) -> List[Optional[bytes]]:\n",
    "        select_query = Query.from_(self.table).select(self.data_column).where(self.id_column.isin(keys))\n",
    "        with self.get_connection() as connection:\n",
    "            cursor = connection.cursor()\n",
    "            cursor.execute(select_query.get_sql())\n",
    "            results = cursor.fetchall()\n",
    "\n",
    "            cursor.close()\n",
    "\n",
    "            data_list = []\n",
    "            for result in results:\n",
    "                if result[0] is not None:\n",
    "                    data_list.append(json.loads(result[0]).encode(\"utf-8\"))\n",
    "                else:\n",
    "                    data_list.append(None)\n",
    "\n",
    "            return data_list\n",
    "\n",
    "    def mset(self, key_value_pairs: Sequence[Tuple[int, bytes]]) -> None:\n",
    "        insert_queries = []\n",
    "        for key, value in key_value_pairs:\n",
    "            insert_query = Query.into(self.table).columns(self.id_column, self.data_column).insert(key, json.dumps(\n",
    "                value.decode('utf-8')))\n",
    "            insert_queries.append(insert_query)\n",
    "        with self.get_connection() as connection:\n",
    "            cursor = connection.cursor()\n",
    "            for query in insert_queries:\n",
    "                cursor.execute(query.get_sql())\n",
    "            connection.commit()\n",
    "            cursor.close()\n",
    "\n",
    "    def mdelete(self, keys: Sequence[int]) -> None:\n",
    "        delete_query = Query.from_(self.table).delete().where(self.id_column.isin(keys))\n",
    "        with self.get_connection() as connection:\n",
    "            cursor = connection.cursor()\n",
    "            cursor.execute(delete_query.get_sql())\n",
    "            connection.commit()\n",
    "            cursor.close()\n",
    "\n",
    "    def yield_keys(self, prefix: Optional[str] = None) -> Iterator[str]:\n",
    "        select_query = Query.from_(self.table).select(self.id_column)\n",
    "        if prefix:\n",
    "            select_query = select_query.where(self.id_column.like(f'{prefix}%'))\n",
    "        with self.get_connection() as connection:\n",
    "            cursor = connection.cursor()\n",
    "            cursor.execute(select_query.get_sql())\n",
    "\n",
    "            for row in cursor.fetchall():\n",
    "                yield row[0]\n",
    "\n",
    "            cursor.close()"
   ]
  },
  {
   "cell_type": "code",
   "execution_count": 5,
   "id": "a5e4961f",
   "metadata": {},
   "outputs": [],
   "source": [
    "import uuid\n",
    "from langchain.retrievers.multi_vector import MultiVectorRetriever\n",
    "from langchain.storage import InMemoryStore\n",
    "from langchain_chroma import Chroma\n",
    "from langchain_core.documents import Document\n",
    "from sentence_transformers import SentenceTransformer\n",
    "from langchain.embeddings import HuggingFaceEmbeddings\n",
    "from langchain_postgres import PGVector\n",
    "from langchain.storage._lc_store import create_kv_docstore\n",
    "\n",
    "\n",
    "embedding_function = HuggingFaceEmbeddings(model_name=\"sentence-transformers/all-MiniLM-L6-v2\")\n",
    "\n",
    "vectorstore = Chroma(collection_name=\"attention_paper\", embedding_function=embedding_function, persist_directory=\"../data/\")\n",
    "cs = ChromaStore(\"../data/\", \"attention_paper\")\n",
    "\n",
    "store = create_kv_docstore(cs)\n",
    "\n",
    "id_key = \"doc_id\"\n",
    "\n",
    "retriever = MultiVectorRetriever(\n",
    "    vectorstore=vectorstore,\n",
    "    docstore=store,\n",
    "    id_key=id_key,\n",
    ")"
   ]
  },
  {
   "cell_type": "code",
   "execution_count": 28,
   "id": "9aa2f56b",
   "metadata": {},
   "outputs": [
    {
     "name": "stdout",
     "output_type": "stream",
     "text": [
      "Heelo\n"
     ]
    }
   ],
   "source": [
    "import chromadb\n",
    "from chromadb.config import Settings\n",
    "client = chromadb.Client(Settings(is_persistent=True,\n",
    "                                    persist_directory=\"../data/\",\n",
    "                                ))\n",
    "# coll = client.list(\"sd\")\n",
    "\n",
    "if \"summaries\" in [c.name for c in client.list_collections()]:\n",
    "    print(\"Heelo\")"
   ]
  },
  {
   "cell_type": "code",
   "execution_count": 25,
   "id": "919145f0",
   "metadata": {},
   "outputs": [
    {
     "data": {
      "text/plain": [
       "Collection(name=summaries)"
      ]
     },
     "execution_count": 25,
     "metadata": {},
     "output_type": "execute_result"
    }
   ],
   "source": [
    "coll"
   ]
  },
  {
   "cell_type": "code",
   "execution_count": 9,
   "id": "ccadde6c",
   "metadata": {},
   "outputs": [],
   "source": [
    "docs = retriever.invoke(\n",
    "    \"Please Explain Attention Mechanism\"\n",
    ")"
   ]
  },
  {
   "cell_type": "code",
   "execution_count": 11,
   "id": "85a149bd",
   "metadata": {},
   "outputs": [
    {
     "data": {
      "text/plain": [
       "[Document(metadata={'doc_id': '5756e9f9-4e2e-475e-a1d0-779d6a8ba187', 'page_number': 5}, page_content='3.2.3 Applications of Attention in our Model\\n\\nThe Transformer uses multi-head attention in three different ways:\\n\\n• In \"encoder-decoder attention\" layers, the queries come from the previous decoder layer, and the memory keys and values come from the output of the encoder. This allows every position in the decoder to attend over all positions in the input sequence. This mimics the typical encoder-decoder attention mechanisms in sequence-to-sequence models such as [38, 2, 9].\\n\\n• The encoder contains self-attention layers. In a self-attention layer all of the keys, values and queries come from the same place, in this case, the output of the previous layer in the encoder. Each position in the encoder can attend to all positions in the previous layer of the encoder.\\n\\n• Similarly, self-attention layers in the decoder allow each position in the decoder to attend to all positions in the decoder up to and including that position. We need to prevent leftward information flow in the decoder to preserve the auto-regressive property. We implement this inside of scaled dot-product attention by masking out (setting to −∞) all values in the input of the softmax which correspond to illegal connections. See Figure 2.'),\n",
       " Document(metadata={'doc_id': '08d24714-6e08-4b37-9f64-d8c53205a457', 'page_number': 12}, page_content='[37] Vinyals & Kaiser, Koo, Petrov, Sutskever, and Hinton. Grammar as a foreign language. In Advances in Neural Information Processing Systems, 2015.\\n\\n[38] Yonghui Wu, Mike Schuster, Zhifeng Chen, Quoc V Le, Mohammad Norouzi, Wolfgang Macherey, Maxim Krikun, Yuan Cao, Qin Gao, Klaus Macherey, et al. Google’s neural machine translation system: Bridging the gap between human and machine translation. arXiv preprint arXiv:1609.08144, 2016.\\n\\n[39] Jie Zhou, Ying Cao, Xuguang Wang, Peng Li, and Wei Xu. Deep recurrent models with fast-forward connections for neural machine translation. CoRR, abs/1606.04199, 2016.\\n\\n[40] Muhua Zhu, Yue Zhang, Wenliang Chen, Min Zhang, and Jingbo Zhu. Fast and accurate shift-reduce constituent parsing. In Proceedings of the 51st Annual Meeting of the ACL (Volume 1: Long Papers), pages 434–443. ACL, August 2013.\\n\\n12\\n\\nAttention Visualizations\\n\\n2 i i= RE 3 2 i 2 = = 2c 3 2 £ om % S GBANAAAA fe. Re) [a Q €oe2s ozeseyzses 26e8 TL _ FFREKR8TZESHBOP_,SSESE DSsSSsSESE ~2£FFE€voFEnvnFECRCoecacKRGNESLSESSCEGC -vVvVVVVV HMO KEBOCSRSHLHOD QLSARBYXE FE OH “A ARAAKRAAA “= <2 £ 8 FogesouggsS ss P25 5273 Qvryxapvs\\\\3 es sa 5 Seeneteecorzgrs = Q ogs aaa oO 2 Sere =~ aA o ° 8 aaqaaq0gqaqg o o o 5 > o wWUvvvvVvV Vv —e €E£ © e 2 6 v Do <¢ 8 & |\\n\\nFigure 3: An example of the attention mechanism following long-distance dependencies in the encoder self-attention in layer 5 of 6. Many of the attention heads attend to a distant dependency of the verb ‘making’, completing the phrase ‘making...more difficult’. Attentions here shown only for the word ‘making’. Different colors represent different heads. Best viewed in color.\\n\\n13\\n\\n<ped> <ped> UOIUIdO == Aw ul Bulssiw ale « aM = yeum = S| sy ysnf pinoys = uoluldo Aw ul Bulssiw ae ysnf 38q Pinoys uojeojdde Ss}! nq poped 38q JaAou Me] au <ped> <SOa> uojuido Aw ul Bulssiuw oe aM yeum S| SIU} ysnf 3q Pinoys uojeodde Ss}! ynq yoped 3q 4eAeuU meq auL <ped> <SOa> uo|uldo Aw ul Bulssiuw oe eM yeum S| Siu} ysnf 3q Pinoys uoyeoydde si! ynq yoped 3q aul\\n\\nFigure 4: Two attention heads, also in layer 5 of 6, apparently involved in anaphora resolution. Top: Full attentions for head 5. Bottom: Isolated attentions from just the word ‘its’ for attention heads 5 and 6. Note that the attentions are very sharp for this word.\\n\\n14\\n\\n<ped> <ped> <SOH>\\\\ <SO3> uoluido = uoluido Aw Aw yeyum S| sim pi—f}— 4 -ysn{ | Pinoys «+ pinoys uoeoydde uojeodde si! —=S}! nga A ynq poped pooped aq aq Janou™ J@AoU WIM TIM me) me) oul OUL\\n\\n<ped> <ped> so <0 Uo|UIdO uoluido Aw Aw ul ul Bulssiw Bulssiw ae ale aM am yeuM yeum S| S| sty} # sly -—A - el eq eq pinoys « pinoys uojeoidde ee Ss}! Ss}! nq ee popod a —_ ee eq eq JOAoU JOAoU IW IW rr auL auL\\n\\nFigure 5: Many of the attention heads exhibit behaviour that seems related to the structure of the sentence. We give two such examples above, from two different heads from the encoder self-attention at layer 5 of 6. The heads clearly learned to perform different tasks.\\n\\n15'),\n",
       " Document(metadata={'doc_id': '367642f0-33b4-4437-8192-728b8adc7136'}, page_content='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'),\n",
       " Document(metadata={'doc_id': '2a8d5062-defa-4893-ae29-54828f14d59b'}, page_content='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')]"
      ]
     },
     "execution_count": 11,
     "metadata": {},
     "output_type": "execute_result"
    }
   ],
   "source": [
    "docs"
   ]
  },
  {
   "cell_type": "code",
   "execution_count": 16,
   "id": "58df5ac4",
   "metadata": {},
   "outputs": [
    {
     "data": {
      "text/plain": [
       "'5756e9f9-4e2e-475e-a1d0-779d6a8ba187'"
      ]
     },
     "execution_count": 16,
     "metadata": {},
     "output_type": "execute_result"
    }
   ],
   "source": [
    "[i.metadata['doc_id'] for i in docs][0]"
   ]
  },
  {
   "cell_type": "code",
   "execution_count": 24,
   "id": "df50683b",
   "metadata": {},
   "outputs": [],
   "source": [
    "all_docs = retriever.vectorstore.get(where={\"doc_id\":\"5756e9f9-4e2e-475e-a1d0-779d6a8ba187\"})  # Replace with the method to get all docs\n",
    "# doc_ids = [i.metadata['doc_id'] for i in docs]\n",
    "# filtered_docs = [doc for doc in all_docs if doc.metadata['doc_id'] in doc_ids]"
   ]
  },
  {
   "cell_type": "code",
   "execution_count": 25,
   "id": "c7b99efb",
   "metadata": {},
   "outputs": [
    {
     "data": {
      "text/plain": [
       "{'ids': ['2baca9c9-f052-4363-b58e-178ae18c2735'],\n",
       " 'embeddings': None,\n",
       " 'metadatas': [{'doc_id': '5756e9f9-4e2e-475e-a1d0-779d6a8ba187'}],\n",
       " 'documents': ['**Applications of Attention in our Model**\\n\\nThe Transformer model utilizes multi-head attention in the following ways:\\n\\n* **Encoder-Decoder Attention**: In this application, queries from the previous decoder layer attend to memory keys and values from the encoder output, enabling every position in the decoder to attend to all positions in the input sequence, similar to typical encoder-decoder attention mechanisms in sequence-to-sequence models.\\n* **Self-Attention in the Encoder**: In this layer, all keys, values, and queries come from the same source, which is the output of the previous layer in the encoder. Each position in the encoder can attend to all positions in the previous layer of the encoder.\\n* **Self-Attention in the Decoder**: Each position in the decoder attends to all positions in the decoder up to and including that position, with the exception of preventing leftward information flow to preserve the auto-regressive property. This is achieved through masking out illegal connections in the scaled dot-product attention mechanism, as shown in Figure 2.'],\n",
       " 'uris': None,\n",
       " 'data': None}"
      ]
     },
     "execution_count": 25,
     "metadata": {},
     "output_type": "execute_result"
    }
   ],
   "source": [
    "all_docs"
   ]
  },
  {
   "cell_type": "code",
   "execution_count": 20,
   "id": "f8c40e51",
   "metadata": {},
   "outputs": [
    {
     "ename": "NotImplementedError",
     "evalue": "Chroma does not yet support get_by_ids.",
     "output_type": "error",
     "traceback": [
      "\u001b[1;31m---------------------------------------------------------------------------\u001b[0m",
      "\u001b[1;31mNotImplementedError\u001b[0m                       Traceback (most recent call last)",
      "Cell \u001b[1;32mIn[20], line 1\u001b[0m\n\u001b[1;32m----> 1\u001b[0m retriever\u001b[38;5;241m.\u001b[39mvectorstore\u001b[38;5;241m.\u001b[39mget_by_ids([i\u001b[38;5;241m.\u001b[39mmetadata[\u001b[38;5;124m'\u001b[39m\u001b[38;5;124mdoc_id\u001b[39m\u001b[38;5;124m'\u001b[39m] \u001b[38;5;28;01mfor\u001b[39;00m i \u001b[38;5;129;01min\u001b[39;00m docs])\n",
      "File \u001b[1;32m~\\AppData\\Local\\anaconda3\\Lib\\site-packages\\langchain_core\\vectorstores\\base.py:164\u001b[0m, in \u001b[0;36mVectorStore.get_by_ids\u001b[1;34m(self, ids)\u001b[0m\n\u001b[0;32m    140\u001b[0m \u001b[38;5;250m\u001b[39m\u001b[38;5;124;03m\"\"\"Get documents by their IDs.\u001b[39;00m\n\u001b[0;32m    141\u001b[0m \n\u001b[0;32m    142\u001b[0m \u001b[38;5;124;03mThe returned documents are expected to have the ID field set to the ID of the\u001b[39;00m\n\u001b[1;32m   (...)\u001b[0m\n\u001b[0;32m    161\u001b[0m \u001b[38;5;124;03m.. versionadded:: 0.2.11\u001b[39;00m\n\u001b[0;32m    162\u001b[0m \u001b[38;5;124;03m\"\"\"\u001b[39;00m\n\u001b[0;32m    163\u001b[0m msg \u001b[38;5;241m=\u001b[39m \u001b[38;5;124mf\u001b[39m\u001b[38;5;124m\"\u001b[39m\u001b[38;5;132;01m{\u001b[39;00m\u001b[38;5;28mself\u001b[39m\u001b[38;5;241m.\u001b[39m\u001b[38;5;18m__class__\u001b[39m\u001b[38;5;241m.\u001b[39m\u001b[38;5;18m__name__\u001b[39m\u001b[38;5;132;01m}\u001b[39;00m\u001b[38;5;124m does not yet support get_by_ids.\u001b[39m\u001b[38;5;124m\"\u001b[39m\n\u001b[1;32m--> 164\u001b[0m \u001b[38;5;28;01mraise\u001b[39;00m \u001b[38;5;167;01mNotImplementedError\u001b[39;00m(msg)\n",
      "\u001b[1;31mNotImplementedError\u001b[0m: Chroma does not yet support get_by_ids."
     ]
    }
   ],
   "source": [
    "retriever.vectorstore.get_by_ids([i.metadata['doc_id'] for i in docs]) #  ([i.metadata['doc_id'] for i in docs])"
   ]
  },
  {
   "cell_type": "code",
   "execution_count": 19,
   "id": "515b20f0",
   "metadata": {},
   "outputs": [
    {
     "data": {
      "text/plain": [
       "[(Document(metadata={'doc_id': '5756e9f9-4e2e-475e-a1d0-779d6a8ba187'}, page_content='**Applications of Attention in our Model**\\n\\nThe Transformer model utilizes multi-head attention in the following ways:\\n\\n* **Encoder-Decoder Attention**: In this application, queries from the previous decoder layer attend to memory keys and values from the encoder output, enabling every position in the decoder to attend to all positions in the input sequence, similar to typical encoder-decoder attention mechanisms in sequence-to-sequence models.\\n* **Self-Attention in the Encoder**: In this layer, all keys, values, and queries come from the same source, which is the output of the previous layer in the encoder. Each position in the encoder can attend to all positions in the previous layer of the encoder.\\n* **Self-Attention in the Decoder**: Each position in the decoder attends to all positions in the decoder up to and including that position, with the exception of preventing leftward information flow to preserve the auto-regressive property. This is achieved through masking out illegal connections in the scaled dot-product attention mechanism, as shown in Figure 2.'),\n",
       "  0.7649371806172871),\n",
       " (Document(metadata={'doc_id': '08d24714-6e08-4b37-9f64-d8c53205a457'}, page_content=\"Summary:\\n\\n**References:**\\n\\nThree studies are referenced: Vinyals & Kaiser et al. (2015) on grammar as a foreign language, Wu et al. (2016) on Google's neural machine translation system, and Zhou et al. (2016) on deep recurrent models for neural machine translation. Additionally, Zhu et al. (2013) is mentioned for their work on fast and accurate shift-reduce constituent parsing.\\n\\n**Attention Visualizations:**\\n\\nFigures 3, 4, and 5 illustrate the attention mechanism in neural machine translation. Figure 3 shows an example of the attention mechanism following long-distance dependencies in the encoder self-attention in layer 5 of 6. Many of the attention heads attend to a distant dependency of the verb'making', completing the phrase'making...more difficult'. Figure 4 depicts two attention heads, also in layer 5 of 6, involved in anaphora resolution. Figure 5 presents two examples of attention heads exhibiting behavior related to the structure of the sentence, performing different tasks.\\n\\n**Key Points:**\\n\\n* The attention mechanism plays a crucial role in neural machine translation, allowing the model to focus on specific parts of the input sequence.\\n* The attention heads in the encoder self-attention exhibit behavior related to long-distance dependencies, anaphora resolution, and sentence structure.\\n* The figures illustrate the attention mechanism in action, highlighting the ability of the model to focus on specific words or phrases in the input sequence.\"),\n",
       "  0.9632398949325782),\n",
       " (Document(metadata={'doc_id': '367642f0-33b4-4437-8192-728b8adc7136'}, page_content='The image presents a visual representation of Scaled Dot-Product Attention and Multi-Head Attention, two key mechanisms in deep learning models. The diagrams are divided into two sections, with the left side illustrating Scaled Dot-Product Attention and the right side depicting Multi-Head Attention.\\n\\n**Scaled Dot-Product Attention**\\n\\nThe Scaled Dot-Product Attention diagram consists of several components:\\n\\n*   **MatMul**: This layer performs matrix multiplication.\\n*   **SoftMax**: This function normalizes the output'),\n",
       "  1.059860023041781),\n",
       " (Document(metadata={'doc_id': '2a8d5062-defa-4893-ae29-54828f14d59b'}, page_content='The image presents a diagram of a deep learning neural network, comprising a series of blocks connected by arrows. At the top, a \"Linear\" operation is performed, which outputs linear values. These linear values are then cascaded to a series of \"Concat\" blocks, with alternating \"Scaled Dot-Product Attention\" blocks. Notably, the first \"Scaled Dot-Product Attention\" block is positioned immediately after a direct \"Linear\" operation from the input values, denoted by \"V\" and'),\n",
       "  1.1258956973526795)]"
      ]
     },
     "execution_count": 19,
     "metadata": {},
     "output_type": "execute_result"
    }
   ],
   "source": [
    "retriever.vectorstore.similarity_search_with_score(\"Please Explain Attention Mechanism\")"
   ]
  },
  {
   "cell_type": "code",
   "execution_count": null,
   "id": "277e55c7",
   "metadata": {},
   "outputs": [],
   "source": []
  },
  {
   "cell_type": "code",
   "execution_count": 7,
   "id": "b29f23e2",
   "metadata": {},
   "outputs": [
    {
     "ename": "NameError",
     "evalue": "name 'StrOutputParser' is not defined",
     "output_type": "error",
     "traceback": [
      "\u001b[1;31m---------------------------------------------------------------------------\u001b[0m",
      "\u001b[1;31mNameError\u001b[0m                                 Traceback (most recent call last)",
      "Cell \u001b[1;32mIn[7], line 72\u001b[0m\n\u001b[0;32m     57\u001b[0m     output \u001b[38;5;241m=\u001b[39m client\u001b[38;5;241m.\u001b[39mchat\u001b[38;5;241m.\u001b[39mcompletions\u001b[38;5;241m.\u001b[39mcreate(\n\u001b[0;32m     58\u001b[0m         model\u001b[38;5;241m=\u001b[39m\u001b[38;5;124m\"\u001b[39m\u001b[38;5;124mmeta-llama/Llama-3.2-11B-Vision-Instruct\u001b[39m\u001b[38;5;124m\"\u001b[39m,\n\u001b[0;32m     59\u001b[0m         messages\u001b[38;5;241m=\u001b[39mprompt_list,\n\u001b[0;32m     60\u001b[0m         max_tokens\u001b[38;5;241m=\u001b[39m\u001b[38;5;241m1200\u001b[39m\n\u001b[0;32m     61\u001b[0m     )\n\u001b[0;32m     63\u001b[0m     \u001b[38;5;28;01mreturn\u001b[39;00m output\u001b[38;5;241m.\u001b[39mchoices[\u001b[38;5;241m0\u001b[39m]\u001b[38;5;241m.\u001b[39mmessage\u001b[38;5;241m.\u001b[39mcontent\n\u001b[0;32m     65\u001b[0m chain_with_sources \u001b[38;5;241m=\u001b[39m {\n\u001b[0;32m     66\u001b[0m     \u001b[38;5;124m\"\u001b[39m\u001b[38;5;124mcontext\u001b[39m\u001b[38;5;124m\"\u001b[39m: retriever \u001b[38;5;241m|\u001b[39m RunnableLambda(parse_docs),\n\u001b[0;32m     67\u001b[0m     \u001b[38;5;124m\"\u001b[39m\u001b[38;5;124mquestion\u001b[39m\u001b[38;5;124m\"\u001b[39m: RunnablePassthrough(),\n\u001b[0;32m     68\u001b[0m } \u001b[38;5;241m|\u001b[39m RunnablePassthrough()\u001b[38;5;241m.\u001b[39massign(\n\u001b[0;32m     69\u001b[0m     response\u001b[38;5;241m=\u001b[39m(\n\u001b[0;32m     70\u001b[0m         RunnableLambda(build_prompt)\n\u001b[0;32m     71\u001b[0m         \u001b[38;5;241m|\u001b[39m RunnableLambda(genai_model)\n\u001b[1;32m---> 72\u001b[0m         \u001b[38;5;241m|\u001b[39m StrOutputParser()\n\u001b[0;32m     73\u001b[0m     )\n\u001b[0;32m     74\u001b[0m )\n\u001b[0;32m     76\u001b[0m response \u001b[38;5;241m=\u001b[39m chain_with_sources\u001b[38;5;241m.\u001b[39minvoke(\n\u001b[0;32m     77\u001b[0m     \u001b[38;5;124m\"\u001b[39m\u001b[38;5;124mExplain Attention Mechanism\u001b[39m\u001b[38;5;124m\"\u001b[39m\n\u001b[0;32m     78\u001b[0m )\n\u001b[0;32m     80\u001b[0m \u001b[38;5;28mprint\u001b[39m(\u001b[38;5;124m\"\u001b[39m\u001b[38;5;124mResponse:\u001b[39m\u001b[38;5;124m\"\u001b[39m, response[\u001b[38;5;124m'\u001b[39m\u001b[38;5;124mresponse\u001b[39m\u001b[38;5;124m'\u001b[39m])\n",
      "\u001b[1;31mNameError\u001b[0m: name 'StrOutputParser' is not defined"
     ]
    }
   ],
   "source": [
    "from langchain_core.runnables import RunnablePassthrough, RunnableLambda\n",
    "from langchain_core.messages import SystemMessage, HumanMessage\n",
    "from base64 import b64decode\n",
    "from langchain_core.output_parsers import StrOutputParser\n",
    "from langchain_core.prompts import ChatPromptTemplate\n",
    "\n",
    "\n",
    "import base64\n",
    "from IPython.display import Image, display\n",
    "\n",
    "def display_base64_image(base64_code):\n",
    "    image_data = base64.b64decode(base64_code)\n",
    "    display(Image(data=image_data))\n",
    "\n",
    "\n",
    "def parse_docs(docs):\n",
    "    b64 = []\n",
    "    text = []\n",
    "    for doc in docs:\n",
    "        try:\n",
    "            b64decode(doc.page_content)\n",
    "            b64.append(doc.page_content)\n",
    "        except Exception as e:\n",
    "            text.append(doc)\n",
    "    return {\"images\": b64, \"texts\": text}\n",
    "\n",
    "\n",
    "def build_prompt(kwargs):\n",
    "\n",
    "    docs_by_type = kwargs[\"context\"]\n",
    "    user_question = kwargs[\"question\"]\n",
    "    \n",
    "    \n",
    "    context_text = \"\"\n",
    "    if len(docs_by_type[\"texts\"]) > 0:\n",
    "        for text_element in docs_by_type[\"texts\"]:\n",
    "            context_text += text_element.page_content\n",
    "\n",
    "    # construct prompt with context (including images)\n",
    "    prompt_template = f\"\"\"\n",
    "    Answer the question based only on the following context, which can include text, tables, and the images. \n",
    "    \n",
    "    Context: {context_text}\n",
    "    \n",
    "    Question: {user_question}\n",
    "    \"\"\"\n",
    "\n",
    "    prompt_content = [{\"type\": \"text\", \"text\": prompt_template}]\n",
    "\n",
    "    if len(docs_by_type[\"images\"]) > 0:\n",
    "        for image in docs_by_type[\"images\"]:\n",
    "            prompt_content.append(\n",
    "                {\n",
    "                    \"type\": \"image_url\",\n",
    "                    \"image_url\": {\"url\": f\"data:image/jpeg;base64,{image}\"},\n",
    "                }\n",
    "            )\n",
    "    return [{\"role\":\"user\",\"content\":prompt_content}]\n",
    "def genai_model(prompt_list):\n",
    "    output = client.chat.completions.create(\n",
    "        model=\"meta-llama/Llama-3.2-11B-Vision-Instruct\",\n",
    "        messages=prompt_list,\n",
    "        max_tokens=1200\n",
    "    )\n",
    "    \n",
    "    return output.choices[0].message.content\n",
    "\n",
    "chain_with_sources = {\n",
    "    \"context\": retriever | RunnableLambda(parse_docs),\n",
    "    \"question\": RunnablePassthrough(),\n",
    "} | RunnablePassthrough().assign(\n",
    "    response=(\n",
    "        RunnableLambda(build_prompt)\n",
    "        | RunnableLambda(genai_model)\n",
    "        | StrOutputParser()\n",
    "    )\n",
    ")\n",
    "\n",
    "response = chain_with_sources.invoke(\n",
    "    \"Explain Attention Mechanism\"\n",
    ")\n",
    "\n",
    "print(\"Response:\", response['response'])\n",
    "\n",
    "print(\"\\n\\nContext:\")\n",
    "for text in response['context']['texts']:\n",
    "#     print(text.text)\n",
    "    print(\"Page number: \", text.metadata['page_number'])\n",
    "    print(\"\\n\" + \"-\"*50 + \"\\n\")\n",
    "for image in response['context']['images']:\n",
    "    display_base64_image(image)"
   ]
  },
  {
   "cell_type": "code",
   "execution_count": 27,
   "id": "ac28676a",
   "metadata": {},
   "outputs": [],
   "source": [
    "from unstructured.partition.docx import partition_docx\n",
    "\n",
    "class WordDocParser:\n",
    "    def __init__(self, docx_filename):\n",
    "        self.docx_filename = docx_filename\n",
    "\n",
    "    def parse_docx(self):\n",
    "        docx_path = self.docx_filename\n",
    "        chunks = partition_docx(\n",
    "            filename=docx_path,\n",
    "            infer_table_structure=True,\n",
    "            strategy=\"hi_res\",\n",
    "            extract_image_block_types=[\"Image\"],\n",
    "            extract_image_block_to_payload=True,\n",
    "            chunking_strategy=\"by_title\",\n",
    "            max_characters=4000,\n",
    "            combine_text_under_n_chars=1000,\n",
    "            new_after_n_chars=3000,\n",
    "        )\n",
    "\n",
    "        tables_list = []\n",
    "        texts_list = []\n",
    "\n",
    "        for chunk in chunks:\n",
    "            if \"Table\" in str(type(chunk)):\n",
    "                tables_list.append(chunk)\n",
    "            if \"CompositeElement\" in str(type(chunk)):\n",
    "                texts_list.append(chunk)\n",
    "\n",
    "        images_list = self._get_images_base64(chunks)\n",
    "        return texts_list, tables_list, images_list\n",
    "\n",
    "    def _get_images_base64(self, chunks):\n",
    "        images_b64 = []\n",
    "        for chunk in chunks:\n",
    "            if \"CompositeElement\" in str(type(chunk)):\n",
    "                chunk_els = chunk.metadata.orig_elements\n",
    "                for el in chunk_els:\n",
    "                    if \"Image\" in str(type(el)):\n",
    "                        images_b64.append(el.metadata.image_base64)\n",
    "        return images_b64\n"
   ]
  },
  {
   "cell_type": "code",
   "execution_count": 28,
   "id": "eb5ee7a3",
   "metadata": {},
   "outputs": [],
   "source": [
    "az = WordDocParser(r\"C:\\Users\\rajneesh.jha\\Downloads\\GGX Demo Details V1.docx\").parse_docx()"
   ]
  },
  {
   "cell_type": "code",
   "execution_count": 29,
   "id": "bc0718f5",
   "metadata": {},
   "outputs": [
    {
     "data": {
      "text/plain": [
       "([<unstructured.documents.elements.CompositeElement at 0x19968823d90>,\n",
       "  <unstructured.documents.elements.CompositeElement at 0x199688212d0>,\n",
       "  <unstructured.documents.elements.CompositeElement at 0x19968821590>],\n",
       " [],\n",
       " [])"
      ]
     },
     "execution_count": 29,
     "metadata": {},
     "output_type": "execute_result"
    }
   ],
   "source": [
    "az"
   ]
  },
  {
   "cell_type": "code",
   "execution_count": null,
   "id": "fa64e26b",
   "metadata": {},
   "outputs": [],
   "source": []
  },
  {
   "cell_type": "code",
   "execution_count": 26,
   "id": "3e498884",
   "metadata": {},
   "outputs": [
    {
     "data": {
      "text/plain": [
       "'GGX Demo:\\n\\nOverview of GGX:\\n\\nIntroduction to GGX project and platform\\n\\nRisks associated with the GenAi Pipeline\\n\\nRegulatory requirements for GenAI pipelines\\n\\nData Vault:\\n\\nA place to host all the useful datasets and track it within Corridor environment.\\n\\nAbility to connect to the client’s data lake or upload custom datasets.\\n\\nRun pre configured multiple data related checks.\\n\\nGGX curated validation datasets for testing/validation of different GGX components.\\n\\nOpen Source datasets already present in the platform for some of the famous benchmarking tests.\\n\\nIntent Recognition Validation Data: https://genai2.corridorplatforms.com/data-vault/table-registry/35/details\\n\\nResponse Validation Data: https://genai2.corridorplatforms.com/data-vault/table-registry/37/details\\n\\nGGX Prompt Injection Strategies:\\n\\nhttps://genai2.corridorplatforms.com/data-vault/table-registry/38/details\\n\\nGenAi Studio:\\n\\nCentral place to organize all the GenAI related work with proper access controls in place.\\n\\nModular components for registering/validating and monitoring different parts of GenAI pipelines. (Models, Prompts, RAG)\\n\\nFinally create pipelines by combining different components for specific use cases and perform multiple tests on it both automated + human integrated.\\n\\nModel Catalog:\\n\\nA central place to register and test all the Foundational and Fine-Tuned models\\n\\nSimple registration process to put the exact logic and documentation for the model and decide the use-cases it would be permissioned for.\\n\\nAbility to connect to external systems using APIs or upload the model artifact within the Corridor environment.\\n\\nFingerprinting to govern the external APIs.\\n\\nAdditional capability to track changes, approvals, version control, reviews and monitoring, impact assessment, approve it once and use it across multiple projects avoiding cycles of testing+approval.\\n\\nAbility to test the components using various pre-packaged tests on the platform or create custom tests using a nice UI like interface .(At the end show the Reporting section after HIT maybe)\\n\\nShow toxicity evaluation and Show Gender Bias and Gender Bias with Prompt variations.\\n\\nShare the object documentation + all the tests with reviewers and get their feedback to do continuous improvements.\\n\\nGPT4 Model with all the Comparison Dashboard (with GPT3.5 and LLAMA): https://genai2.corridorplatforms.com/genai-studio/model-catalog/2/details\\n\\nPrompts:\\n\\nA store to register, track and monitor all the prompts.\\n\\nGGX curated pre-packaged prompts evaluation metrics to test use-case specific prompts quality.\\n\\nAbility to test the prompt individually or Ability to test it by combining with other components like Model to evaluate prompt in relation to the outcome.\\n\\nShow the charts for prompt quality and prompt classification accuracy.\\n\\nIntent Recognition Prompt (With Dashboards): https://genai2.corridorplatforms.com/genai-studio/prompt-registry/53/details\\n\\nResponse Prompt : https://genai2.corridorplatforms.com/genai-studio/prompt-registry/52/details\\n\\nRetrieval Augmented Generation (RAG):\\n\\nAbility to connect to an external knowledge database to augment LLM’s knowledge with use-case specific information.\\n\\nAbility to upload the Knowledge base and track it within the corridor or connect through external APIs with proper fingerprinting.\\n\\nShow dashboards\\n\\nRAG (With Dashboard) : https://genai2.corridorplatforms.com/genai-studio/rag-registry/14/details\\n\\nPipeline Builder:\\n\\nA place to build and test your use-case specific pipelines\\n\\nCombine one or more components from Models, Prompts and RAG in a use-case specific manner to stitch the end to pipeline together using very minimal code.\\n\\nAbility to quickly swap in and swap out any component and compare multiple pipelines to export the best one for production.\\n\\nView the complete lineage of your pipelines, any permissible purpose violations etc.\\n\\nTest the pipeline using multiple use-case specific reports and take it through the approval process.'"
      ]
     },
     "execution_count": 26,
     "metadata": {},
     "output_type": "execute_result"
    }
   ],
   "source": [
    "az[0][0].text"
   ]
  },
  {
   "cell_type": "code",
   "execution_count": 34,
   "id": "607aea25",
   "metadata": {},
   "outputs": [],
   "source": [
    "from gtts import gTTS\n",
    "import pygame\n",
    "from io import BytesIO\n",
    "\n",
    "# The text that you want to convert to audio\n",
    "mytext = \"\"\"Attention in this context refers to an attention function, which is a mechanism that maps a query and a set of key-value pairs to an output. The input consists of queries and keys of dimension dk, and values of dimension dv. The attention function computes the dot products of the queries with all keys, applies a softmax function to obtain the weights on the query with all keys, divides each by √ dk, and then multiplies the values with these weights. This process is also known as Scaled Dot-Product Attention.\n",
    "\n",
    "Attention is a crucial component of various deep learning models, including the Transformer model. It allows the model to focus on specific parts of the input data, weigh them appropriately, and produce an output based on these weighted inputs. In the context of the Transformer model, attention is used in multiple layers, including encoder-decoder attention layers, self-attention layers in the encoder, and self-attention layers in the decoder. It plays a key role in enhancing the model's ability to capture complex relationships between different elements of the input data.\n",
    "\n",
    "In summary, attention refers to the attention function used in deep learning models, which computes the weighted sum of values based on their compatibility with queries, as determined by the dot product of the queries with keys, normalized by a scaling factor.\"\"\"\n",
    "\n",
    "# Language in which you want to convert\n",
    "language = 'en'\n",
    "\n",
    "# Passing the text and language to the engine\n",
    "tts = gTTS(text=mytext, lang=language, slow=False)\n",
    "\n",
    "# Create an in-memory bytes buffer to save the audio\n",
    "audio_stream = BytesIO()\n",
    "tts.write_to_fp(audio_stream)\n",
    "\n",
    "# Rewind the buffer to the beginning\n",
    "audio_stream.seek(0)\n",
    "\n",
    "# Initialize the mixer module\n",
    "pygame.mixer.init()\n",
    "\n",
    "# Load the mp3 data from the bytes stream\n",
    "pygame.mixer.music.load(audio_stream, \"mp3\")\n",
    "\n",
    "# Play the loaded mp3 data\n",
    "pygame.mixer.music.play()\n",
    "\n",
    "# Keep the program running until the audio finishes playing\n",
    "while pygame.mixer.music.get_busy():\n",
    "    pass\n"
   ]
  },
  {
   "cell_type": "code",
   "execution_count": 38,
   "id": "dbb485b3",
   "metadata": {},
   "outputs": [
    {
     "name": "stdout",
     "output_type": "stream",
     "text": [
      "Adjusting for ambient noise... Please wait.\n",
      "Listening for your speech...\n",
      "Processing audio...\n",
      "You said: what is attention\n"
     ]
    }
   ],
   "source": [
    "import speech_recognition as sr\n",
    "\n",
    "# Initialize recognizer\n",
    "recognizer = sr.Recognizer()\n",
    "\n",
    "# Use the microphone as the audio source\n",
    "with sr.Microphone() as source:\n",
    "    print(\"Adjusting for ambient noise... Please wait.\")\n",
    "    recognizer.adjust_for_ambient_noise(source, duration=1)\n",
    "    print(\"Listening for your speech...\")\n",
    "    try:\n",
    "        audio = recognizer.listen(source)\n",
    "        text = recognizer.recognize_google(audio)\n",
    "    except sr.UnknownValueError:\n",
    "        print(\"Sorry, I could not understand the audio.\")\n",
    "    except sr.RequestError as e:\n",
    "        print(f\"Error with Google Speech Recognition service: {e}\")\n"
   ]
  },
  {
   "cell_type": "code",
   "execution_count": null,
   "id": "5d60e455",
   "metadata": {},
   "outputs": [],
   "source": []
  }
 ],
 "metadata": {
  "kernelspec": {
   "display_name": "Python 3 (ipykernel)",
   "language": "python",
   "name": "python3"
  },
  "language_info": {
   "codemirror_mode": {
    "name": "ipython",
    "version": 3
   },
   "file_extension": ".py",
   "mimetype": "text/x-python",
   "name": "python",
   "nbconvert_exporter": "python",
   "pygments_lexer": "ipython3",
   "version": "3.11.5"
  }
 },
 "nbformat": 4,
 "nbformat_minor": 5
}
